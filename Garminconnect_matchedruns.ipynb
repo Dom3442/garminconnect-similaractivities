{
  "nbformat": 4,
  "nbformat_minor": 0,
  "metadata": {
    "colab": {
      "name": "Garminconnect_matchedruns.ipynb",
      "provenance": [],
      "collapsed_sections": [],
      "authorship_tag": "ABX9TyM1AwYuoVtGqTxwg3oIX87N",
      "include_colab_link": true
    },
    "kernelspec": {
      "name": "python3",
      "display_name": "Python 3"
    }
  },
  "cells": [
    {
      "cell_type": "markdown",
      "metadata": {
        "id": "view-in-github",
        "colab_type": "text"
      },
      "source": [
        "<a href=\"https://colab.research.google.com/github/Dom3442/garminconnect-similaractivities/blob/master/Garminconnect_matchedruns.ipynb\" target=\"_parent\"><img src=\"https://colab.research.google.com/assets/colab-badge.svg\" alt=\"Open In Colab\"/></a>"
      ]
    },
    {
      "cell_type": "markdown",
      "metadata": {
        "id": "Tpw_5k5Cz5vL",
        "colab_type": "text"
      },
      "source": [
        "Optional first step to link with google drive to save garmin files there for future use to be fast this can be *skipped*\n",
        "\n"
      ]
    },
    {
      "cell_type": "code",
      "metadata": {
        "id": "Fi_Sjt-e0IDp",
        "colab_type": "code",
        "colab": {}
      },
      "source": [
        "from google.colab import drive\n",
        "drive.mount('/content/gdrive')\n",
        "os.chdir('/content/gdrive/My Drive/')"
      ],
      "execution_count": 0,
      "outputs": []
    },
    {
      "cell_type": "markdown",
      "metadata": {
        "id": "mNriWVrMha9a",
        "colab_type": "text"
      },
      "source": [
        "First stage is to get you garmin data.  There is a handy tool on Github to do this for you here https://github.com/pe-st/garmin-connect-export"
      ]
    },
    {
      "cell_type": "code",
      "metadata": {
        "id": "-E7x-km-hdVN",
        "colab_type": "code",
        "colab": {}
      },
      "source": [
        "# First clone the code so you can run it from here\n",
        "\n",
        "!git clone https://github.com/pe-st/garmin-connect-export"
      ],
      "execution_count": 0,
      "outputs": []
    },
    {
      "cell_type": "code",
      "metadata": {
        "id": "VdUNM7b9iXZD",
        "colab_type": "code",
        "colab": {}
      },
      "source": [
        "# then need to use it to download your data\n",
        "\n",
        "# count number is how many things to download 30 is last 30 use all to download all\n",
        "\n",
        "!python garmin-connect-export/gcexport.py --count 30 --directory garmin_connect_export"
      ],
      "execution_count": 0,
      "outputs": []
    },
    {
      "cell_type": "markdown",
      "metadata": {
        "id": "vh_M4U5ihRcX",
        "colab_type": "text"
      },
      "source": [
        "We now have our data "
      ]
    },
    {
      "cell_type": "code",
      "metadata": {
        "id": "pq9VUBgIkads",
        "colab_type": "code",
        "colab": {}
      },
      "source": [
        "# import needed python packages\n",
        "\n",
        "import matplotlib.pyplot as plt\n",
        "import matplotlib.dates as mdates\n",
        "import datetime\n",
        "import pandas as pd\n",
        "import numpy as np\n",
        "import os"
      ],
      "execution_count": 0,
      "outputs": []
    },
    {
      "cell_type": "code",
      "metadata": {
        "id": "xVA7rXZpkrEr",
        "colab_type": "code",
        "colab": {}
      },
      "source": [
        "# all need gpxpy this will install and import it if you don't have it or just import if you already have it\n",
        "!pip install gpxpy\n",
        "import gpxpy\n",
        "\n"
      ],
      "execution_count": 0,
      "outputs": []
    },
    {
      "cell_type": "code",
      "metadata": {
        "id": "plJp1KnLkm1Q",
        "colab_type": "code",
        "colab": {}
      },
      "source": [
        "# set location of downloaded data\n",
        "\n",
        "folder = ('./garmin_connect_export2/')"
      ],
      "execution_count": 0,
      "outputs": []
    },
    {
      "cell_type": "code",
      "metadata": {
        "id": "rfYNLCAvlROg",
        "colab_type": "code",
        "colab": {}
      },
      "source": [
        "df = pd.read_csv(folder + 'activities.csv')"
      ],
      "execution_count": 0,
      "outputs": []
    },
    {
      "cell_type": "code",
      "metadata": {
        "id": "VSVHlhZulTE6",
        "colab_type": "code",
        "colab": {}
      },
      "source": [
        "# show basic table of activities we need to decide which actitivty we want to look for matches on by number\n",
        "df[['Start Time', 'Activity Name', 'Duration (h:m:s)']].iloc[:30]"
      ],
      "execution_count": 0,
      "outputs": []
    },
    {
      "cell_type": "code",
      "metadata": {
        "id": "DtlO-0iNlWox",
        "colab_type": "code",
        "colab": {}
      },
      "source": [
        "# select activity to find matches for\n",
        "\n",
        "activity_to_match = df.loc[9]"
      ],
      "execution_count": 0,
      "outputs": []
    },
    {
      "cell_type": "markdown",
      "metadata": {
        "id": "TMQAeGlQnBrf",
        "colab_type": "text"
      },
      "source": [
        "We are going to use three criteria to try and get match \n",
        "\n",
        "1) Activity type\n",
        "\n",
        "2) Activity length\n",
        "\n",
        "3) Activity start and end points\n",
        "\n",
        "Once this is done we will load gpx files and check are the same"
      ]
    },
    {
      "cell_type": "code",
      "metadata": {
        "id": "cF7GhCrpmULZ",
        "colab_type": "code",
        "colab": {}
      },
      "source": [
        "# first filter to only activities of same time\n",
        "\n",
        "df_possmatches = df[df['Activity Type'] == activity_to_match['Activity Type']]"
      ],
      "execution_count": 0,
      "outputs": []
    },
    {
      "cell_type": "code",
      "metadata": {
        "id": "BH1qAz5_mmMR",
        "colab_type": "code",
        "colab": {}
      },
      "source": [
        "# then check similar length I have used a length difference threshold of 0.5 here this could be changed\n",
        "\n",
        "thresh_length = 0.5\n",
        "\n",
        "length_dif = abs(df_possmatches['Distance (km)'] - activity_to_match['Distance (km)'])\n",
        "\n",
        "poss_matches = length_dif<thresh_length\n",
        "\n",
        "df_possmatches = df_possmatches[poss_matches]"
      ],
      "execution_count": 0,
      "outputs": []
    },
    {
      "cell_type": "code",
      "metadata": {
        "id": "UC4V99MGm7Wv",
        "colab_type": "code",
        "colab": {}
      },
      "source": [
        "# check start and end position the same\n",
        "\n",
        "# get start and end points of run to match to\n",
        "\n",
        "start_pt = [activity_to_match['Begin Latitude (°DD)'], activity_to_match['Begin Longitude (°DD)']]\n",
        "end_pt = [activity_to_match['End Latitude (°DD)'], activity_to_match['End Longitude (°DD)']]"
      ],
      "execution_count": 0,
      "outputs": []
    },
    {
      "cell_type": "code",
      "metadata": {
        "id": "QN6CuTNOnsNJ",
        "colab_type": "code",
        "colab": {}
      },
      "source": [
        "# get distances from all these points\n",
        "\n",
        "start_pt_dif = ((df_possmatches['Begin Latitude (°DD)']-start_pt[0])**2 + \\\n",
        "                 (df_possmatches['Begin Longitude (°DD)']-start_pt[1])**2)**0.5\n",
        "end_pt_dif = ((df_possmatches['End Latitude (°DD)']-end_pt[0])**2 + \\\n",
        "              (df_possmatches['End Longitude (°DD)']-end_pt[1])**2)**0.5"
      ],
      "execution_count": 0,
      "outputs": []
    },
    {
      "cell_type": "code",
      "metadata": {
        "id": "6S1TT6t5n8qQ",
        "colab_type": "code",
        "colab": {}
      },
      "source": [
        "# apply threshold to remove far away points\n",
        "\n",
        "thresh_startend = 0.001\n",
        "\n",
        "poss_matches = (start_pt_dif + end_pt_dif)<thresh_startend\n",
        "\n",
        "df_possmatches = df_possmatches[poss_matches]"
      ],
      "execution_count": 0,
      "outputs": []
    },
    {
      "cell_type": "code",
      "metadata": {
        "id": "YuAQRQf2oCYo",
        "colab_type": "code",
        "colab": {}
      },
      "source": [
        "print('We have ' + str(len(df_possmatches)) + ' possible matches')"
      ],
      "execution_count": 0,
      "outputs": []
    },
    {
      "cell_type": "markdown",
      "metadata": {
        "id": "h7ur57bFoGum",
        "colab_type": "text"
      },
      "source": [
        "Now load these files and check gpx traces are the same or now"
      ]
    },
    {
      "cell_type": "code",
      "metadata": {
        "id": "CzuTg28coEVj",
        "colab_type": "code",
        "colab": {}
      },
      "source": [
        "# function to load files\n",
        "\n",
        "def gpxtodf(fname):\n",
        "    gpx_file = open(fname, 'r')\n",
        "    gpx = gpxpy.parse(gpx_file)\n",
        "    track = gpx.tracks[0].segments[0].points\n",
        "    \n",
        "    data = []\n",
        "    for point_idx, point in enumerate(track):\n",
        "        data.append([point.longitude, point.latitude, point.elevation, point.time])\n",
        "\n",
        "    df = pd.DataFrame(data, columns=['lon', 'lat', 'alt', 'time'])\n",
        "    return(df)\n"
      ],
      "execution_count": 0,
      "outputs": []
    },
    {
      "cell_type": "code",
      "metadata": {
        "id": "K85zHSb-oRtZ",
        "colab_type": "code",
        "colab": {}
      },
      "source": [
        "# folder name of activity you are interested in\n",
        "\n",
        "fname_tomatch = folder + 'activity_' + str(activity_to_match['Activity ID']) + '.gpx'\n",
        "\n",
        "# get file for run you are checking\n",
        "\n",
        "dfgpx_tomatch = gpxtodf(fname_tomatch)\n"
      ],
      "execution_count": 0,
      "outputs": []
    },
    {
      "cell_type": "code",
      "metadata": {
        "id": "tsrjAG3MoYRf",
        "colab_type": "code",
        "colab": {}
      },
      "source": [
        "# then check against other files using distance between every 10th point and anywhere on other trace \n",
        "\n",
        "cumdif= []\n",
        "\n",
        "for idx in range(df_possmatches.shape[0]):\n",
        "    print(str(idx+1) + ' of ' + str(df_possmatches.shape[0]))\n",
        "\n",
        "    fname_test = folder + 'activity_' + str(df_possmatches['Activity ID'].iloc[idx]) + '.gpx'\n",
        "    dfgpx_test = gpxtodf(fname_test)\n",
        "   \n",
        "    \n",
        "    mindist = []\n",
        "    for idx2 in range(0,dfgpx_test.shape[0],10):\n",
        "        dist = ((dfgpx_tomatch['lon']-dfgpx_test['lon'].iloc[idx2])**2+\\\n",
        "                (dfgpx_tomatch['lat']-dfgpx_test['lat'].iloc[idx2])**2)**0.5\n",
        "        mindist.append(dist.min())\n",
        "    for idx2 in range(0,dfgpx_tomatch.shape[0],10):\n",
        "        dist = ((dfgpx_test['lon']-dfgpx_tomatch['lon'].iloc[idx2])**2+\\\n",
        "                (dfgpx_test['lat']-dfgpx_tomatch['lat'].iloc[idx2])**2)**0.5\n",
        "        mindist.append(dist.min())\n",
        "    cumdif.append(np.mean(mindist))"
      ],
      "execution_count": 0,
      "outputs": []
    },
    {
      "cell_type": "code",
      "metadata": {
        "id": "Tnq-YDrSocQ5",
        "colab_type": "code",
        "colab": {}
      },
      "source": [
        "# now apply threshold to this distance I found 1E-4 to be a good value but this may  need altering\n",
        "\n",
        "thresh = 1E-4\n",
        "\n",
        "idx_match = np.array(cumdif)<thresh\n",
        "\n",
        "activities_matched = df_possmatches[idx_match]"
      ],
      "execution_count": 0,
      "outputs": []
    },
    {
      "cell_type": "code",
      "metadata": {
        "id": "FtQ0cLglozRh",
        "colab_type": "code",
        "colab": {}
      },
      "source": [
        "useful_cols = ['Start Time', 'Elapsed Duration (h:m:s)', 'Average Speed (km/h or min/km)', 'Average Heart Rate (bpm)', 'Elevation Gain (m)']"
      ],
      "execution_count": 0,
      "outputs": []
    },
    {
      "cell_type": "code",
      "metadata": {
        "id": "Xvrh6qCPo2JI",
        "colab_type": "code",
        "colab": {}
      },
      "source": [
        "activities_matched[useful_cols]"
      ],
      "execution_count": 0,
      "outputs": []
    },
    {
      "cell_type": "markdown",
      "metadata": {
        "id": "ipirXUccpAiU",
        "colab_type": "text"
      },
      "source": [
        "Now we have summary make a plot"
      ]
    },
    {
      "cell_type": "code",
      "metadata": {
        "id": "1bK2bnkDo7M6",
        "colab_type": "code",
        "colab": {}
      },
      "source": [
        "# function to get rolling mean\n",
        "\n",
        "def rollingmean(times, win=3):\n",
        "    # need to handle edges\n",
        "    n = len(times)\n",
        "    smoothtimes = times.copy()\n",
        "    \n",
        "    for idx in range(win):\n",
        "        smoothtimes.iloc[idx] = times.iloc[:(idx+win)].mean()\n",
        "    \n",
        "    for idx in range(win,n-win):\n",
        "        smoothtimes.iloc[idx] = times.iloc[(idx-win):(idx+win)].mean()\n",
        "        \n",
        "    for idx in range(n-win,n):\n",
        "        smoothtimes.iloc[idx] = times.iloc[idx:].mean()\n",
        "    return(smoothtimes)"
      ],
      "execution_count": 0,
      "outputs": []
    },
    {
      "cell_type": "code",
      "metadata": {
        "id": "DvLghixvpDzC",
        "colab_type": "code",
        "colab": {}
      },
      "source": [
        "activities_matched.insert(50,'Ave_speed_rolling',rollingmean(pd.to_datetime(activities_matched['Average Speed (km/h or min/km)']))) "
      ],
      "execution_count": 0,
      "outputs": []
    },
    {
      "cell_type": "code",
      "metadata": {
        "id": "q5gH_h2-pJIw",
        "colab_type": "code",
        "colab": {}
      },
      "source": [
        "# make plot moving average will not work well if you have not done route a lot\n",
        "\n",
        "ax = plt.subplot()\n",
        "ax.plot(range(len(activities_matched),0,-1),pd.to_datetime(activities_matched['Average Speed (km/h or min/km)']),'o')\n",
        "ax.plot(range(len(activities_matched),0,-1), activities_matched['Ave_speed_rolling'])\n",
        "ax.invert_yaxis()\n",
        "ax.yaxis.set_major_formatter(mdates.DateFormatter('%H:%M'))\n",
        "ax.yaxis.set_label_text('Pace')\n",
        "ax.xaxis.set_label_text('Attempt Number')\n",
        "plt.show()"
      ],
      "execution_count": 0,
      "outputs": []
    },
    {
      "cell_type": "code",
      "metadata": {
        "id": "3l-gxUgnpPkY",
        "colab_type": "code",
        "colab": {}
      },
      "source": [
        "# bonus plotting of last 5 runs of route to show are same\n",
        "ax = plt.subplot()\n",
        "\n",
        "if 5>len(activities_matched):\n",
        "  toplot = len(activities_matched)\n",
        "else:\n",
        "  toplot = 5\n",
        "\n",
        "for idx in range(toplot):\n",
        "  fname_plot = folder + 'activity_' + str(activities_matched['Activity ID'].iloc[idx]) + '.gpx'\n",
        "  dfgpx_plot = gpxtodf(fname_plot)\n",
        "  ax.plot(dfgpx_plot['lon'], dfgpx_plot['lat'])"
      ],
      "execution_count": 0,
      "outputs": []
    },
    {
      "cell_type": "code",
      "metadata": {
        "id": "iYbY7sUd8WyJ",
        "colab_type": "code",
        "colab": {}
      },
      "source": [
        "# additional options for looking at heart rate\n",
        "ax = plt.subplot()\n",
        "ax.plot(pd.to_datetime(activities_matched['Average Speed (km/h or min/km)']), activities_matched['Average Heart Rate (bpm)'],'o')\n",
        "ax.invert_xaxis()\n",
        "ax.xaxis.set_major_formatter(mdates.DateFormatter('%H:%M'))\n",
        "ax.xaxis.set_label_text('Pace')\n",
        "ax.yaxis.set_label_text('Heart Rate')\n",
        "plt.show()"
      ],
      "execution_count": 0,
      "outputs": []
    },
    {
      "cell_type": "code",
      "metadata": {
        "id": "uUd0aHep9kgt",
        "colab_type": "code",
        "colab": {}
      },
      "source": [
        "# Or filter resutls by heart rate\n",
        "\n",
        "activities_matched_lowhr = activities_matched[activities_matched['Average Heart Rate (bpm)']<150]\n",
        "\n",
        "ax = plt.subplot()\n",
        "ax.plot(range(len(activities_matched_lowhr),0,-1),pd.to_datetime(activities_matched_lowhr['Average Speed (km/h or min/km)']),'o')\n",
        "ax.invert_yaxis()\n",
        "ax.yaxis.set_major_formatter(mdates.DateFormatter('%H:%M'))\n",
        "ax.yaxis.set_label_text('Pace')\n",
        "ax.xaxis.set_label_text('Attempt Number')\n",
        "plt.show()"
      ],
      "execution_count": 0,
      "outputs": []
    },
    {
      "cell_type": "code",
      "metadata": {
        "id": "0M6HWCfE-IQW",
        "colab_type": "code",
        "colab": {}
      },
      "source": [
        ""
      ],
      "execution_count": 0,
      "outputs": []
    }
  ]
}